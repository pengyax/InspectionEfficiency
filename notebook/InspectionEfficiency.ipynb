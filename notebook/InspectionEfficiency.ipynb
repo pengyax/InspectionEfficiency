{
 "cells": [
  {
   "cell_type": "code",
   "execution_count": 206,
   "metadata": {},
   "outputs": [],
   "source": [
    "import pandas as pd\n",
    "import numpy as np\n",
    "from sql_engine import connect\n",
    "import glob\n",
    "import traceback\n",
    "import re"
   ]
  },
  {
   "cell_type": "code",
   "execution_count": 207,
   "metadata": {},
   "outputs": [
    {
     "name": "stderr",
     "output_type": "stream",
     "text": [
      "C:\\Users\\ypeng\\AppData\\Local\\Temp\\ipykernel_16292\\1272271608.py:1: FutureWarning: Inferring datetime64[ns] from data containing strings is deprecated and will be removed in a future version. To retain the old behavior explicitly pass Series(data, dtype=datetime64[ns])\n",
      "  df_2023 = pd.read_excel(r'C:\\Medline\\8. database\\Asia Inspection Database\\2022\\QP-00017-F-00005 Asia Inspection Database 2023.XLSM',sheet_name=\"Sheet1\")\n"
     ]
    }
   ],
   "source": [
    "df_2023 = pd.read_excel(r'C:\\Medline\\8. database\\Asia Inspection Database\\2022\\QP-00017-F-00005 Asia Inspection Database 2023.XLSM',sheet_name=\"Sheet1\")"
   ]
  },
  {
   "cell_type": "code",
   "execution_count": 208,
   "metadata": {},
   "outputs": [],
   "source": [
    "vendor_mapping = pd.read_excel(r'C:\\Medline\\2. CPM\\data\\vendor_mapping\\Vendor _mapping 2023_v1.xlsx')"
   ]
  },
  {
   "cell_type": "code",
   "execution_count": 209,
   "metadata": {},
   "outputs": [],
   "source": [
    "create_mapping = pd.read_excel(r'C:\\Medline\\8. database\\DIV_map.xlsx',sheet_name=2)"
   ]
  },
  {
   "cell_type": "code",
   "execution_count": 210,
   "metadata": {},
   "outputs": [],
   "source": [
    "manager_dict_ct = dict(zip(create_mapping['Creasted'],create_mapping['Regional Manager']))\n",
    "supervisor_dict_ct = dict(zip(create_mapping['Creasted'],create_mapping['Supervisor']))\n",
    "scheduler_dict_ct = dict(zip(create_mapping['Creasted'],create_mapping['Scheduler']))"
   ]
  },
  {
   "cell_type": "code",
   "execution_count": 211,
   "metadata": {},
   "outputs": [],
   "source": [
    "manager_dict = dict(zip(vendor_mapping['Vendor Number'],vendor_mapping['Regional Manager']))\n",
    "supervisor_dict = dict(zip(vendor_mapping['Vendor Number'],vendor_mapping['Supervisor']))\n",
    "scheduler_dict = dict(zip(vendor_mapping['Vendor Number'],vendor_mapping['Scheduler']))"
   ]
  },
  {
   "cell_type": "code",
   "execution_count": 212,
   "metadata": {},
   "outputs": [],
   "source": [
    "org_dict = {\n",
    "    'manager_ct':manager_dict_ct,\n",
    "    'manager':manager_dict,\n",
    "    'supervisor_ct':supervisor_dict_ct,\n",
    "    'supervisor':supervisor_dict,\n",
    "    'scheduler_ct':scheduler_dict_ct,\n",
    "    'scheduler':scheduler_dict  \n",
    "}"
   ]
  },
  {
   "cell_type": "code",
   "execution_count": 213,
   "metadata": {},
   "outputs": [],
   "source": [
    "def assign_inspection_result(df):\n",
    "    return df.assign(**{'Inspection Result' : lambda d : d['Results'].map({'A':'Inspected', 'R':'Inspected', 'W':'Waived', 'G':'Guaranteed'})})"
   ]
  },
  {
   "cell_type": "code",
   "execution_count": 214,
   "metadata": {},
   "outputs": [],
   "source": [
    "# 定义一个函数，输入一个日期，返回那一天所在周的周二是哪一天\n",
    "def get_last_tuesday_of_week(date):\n",
    "    # 将输入的日期转换为Timestamp对象\n",
    "    date = pd.to_datetime(date)\n",
    "    # 计算输入日期所在周的第一天，即周日的日期\n",
    "    sunday_date = date - pd.Timedelta(days=date.dayofweek + 1)\n",
    "    # 计算输入日期所在周的上周二的日期，即周日的日期减五天\n",
    "    tuesday_date = sunday_date + pd.Timedelta(days=-5)\n",
    "    # 返回周二的日期，格式为YYYY-MM-DD\n",
    "    return tuesday_date.strftime('%m%d')"
   ]
  },
  {
   "cell_type": "code",
   "execution_count": 215,
   "metadata": {},
   "outputs": [],
   "source": [
    "def get_org(row,type):    \n",
    "    if row[\"Results\"] in [\"A\", \"R\"]:\n",
    "        key = row[\"Vendor Code\"]\n",
    "        map = org_dict[type]\n",
    "    else:\n",
    "        key = row[\"Created By\"]\n",
    "        map = org_dict[type + \"_ct\"]\n",
    "    # 从map中获取key对应的值，如果没有找到，返回None\n",
    "    return map.get(key)"
   ]
  },
  {
   "cell_type": "code",
   "execution_count": 216,
   "metadata": {},
   "outputs": [],
   "source": [
    "def extract_div(x):\n",
    "    # 如果x以ISP开头，直接返回x\n",
    "    if x.startswith(\"ISP\"):\n",
    "        return x\n",
    "    # 否则，使用正则表达式提取数字\n",
    "    else:\n",
    "        # 导入re库\n",
    "        import re\n",
    "        # 使用re.search()方法找到第一个匹配的数字\n",
    "        match = re.search(\"\\d+\", x)\n",
    "        # 如果找到了，返回匹配的字符串\n",
    "        if match:\n",
    "            return match.group()\n",
    "        # 否则，返回空值\n",
    "        else:\n",
    "            return None"
   ]
  },
  {
   "cell_type": "code",
   "execution_count": 217,
   "metadata": {},
   "outputs": [],
   "source": [
    "std = 10\n",
    "df_inspection = (\n",
    "    df_2023.query('`Inspection Date`.dt.month == @std')\n",
    "    .pipe(assign_inspection_result)\n",
    "    .assign(**{\n",
    "        \"Division\" : lambda d : d[\"Division\"].apply(extract_div),\n",
    "        \"Supervisor\" : lambda d : d.apply(get_org,type = 'supervisor',axis=1),\n",
    "        \"Regional Manager\" : lambda d : d.apply(get_org,type = 'manager',axis=1),\n",
    "        \"Scheduler\" : lambda d : d.apply(get_org,type = 'scheduler',axis=1),\n",
    "        'version' : lambda d: d['Inspection Date'].apply(get_last_tuesday_of_week),\n",
    "        'priority_week' : lambda d : d['Inspection Date'].dt.isocalendar().week -1,\n",
    "        'week' : lambda d :d['Inspection Date'].dt.strftime('%Y-W%W'),\n",
    "        'key' : lambda d : d['Vendor'] + d['Item Number'].map(str)\n",
    "    })\n",
    "    .sort_values('Inspection Date',ascending=True)\n",
    ")"
   ]
  },
  {
   "cell_type": "code",
   "execution_count": 218,
   "metadata": {},
   "outputs": [
    {
     "data": {
      "text/plain": [
       "(33329, 29)"
      ]
     },
     "execution_count": 218,
     "metadata": {},
     "output_type": "execute_result"
    }
   ],
   "source": [
    "df_inspection.shape"
   ]
  },
  {
   "cell_type": "code",
   "execution_count": 219,
   "metadata": {},
   "outputs": [
    {
     "name": "stdout",
     "output_type": "stream",
     "text": [
      "<class 'pandas.core.frame.DataFrame'>\n",
      "Int64Index: 33329 entries, 99799 to 279695\n",
      "Data columns (total 29 columns):\n",
      " #   Column              Non-Null Count  Dtype         \n",
      "---  ------              --------------  -----         \n",
      " 0   ID                  33329 non-null  object        \n",
      " 1   PO Number           33328 non-null  object        \n",
      " 2   Lot Number          33303 non-null  object        \n",
      " 3   Vendor Code         33329 non-null  object        \n",
      " 4   Vendor              33329 non-null  object        \n",
      " 5   Factory             3383 non-null   object        \n",
      " 6   Division            33329 non-null  object        \n",
      " 7   Inspection Date     33329 non-null  datetime64[ns]\n",
      " 8   Inspector           11864 non-null  object        \n",
      " 9   Manufacture Date    33329 non-null  datetime64[ns]\n",
      " 10  Item Number         33329 non-null  object        \n",
      " 11  Qty EA              33329 non-null  object        \n",
      " 12  Results             33329 non-null  object        \n",
      " 13  Reject Code         99 non-null     object        \n",
      " 14  Reject Description  99 non-null     object        \n",
      " 15  Comments            99 non-null     object        \n",
      " 16  Created             23127 non-null  datetime64[ns]\n",
      " 17  Created By          23127 non-null  object        \n",
      " 18  Modified            23127 non-null  datetime64[ns]\n",
      " 19  Modified By         23127 non-null  object        \n",
      " 20  Path                33329 non-null  object        \n",
      " 21  Inspection Result   33329 non-null  object        \n",
      " 22  Supervisor          33328 non-null  object        \n",
      " 23  Regional Manager    33328 non-null  object        \n",
      " 24  Scheduler           33328 non-null  object        \n",
      " 25  version             33329 non-null  object        \n",
      " 26  priority_week       33329 non-null  UInt32        \n",
      " 27  week                33329 non-null  object        \n",
      " 28  key                 33329 non-null  object        \n",
      "dtypes: UInt32(1), datetime64[ns](4), object(24)\n",
      "memory usage: 7.5+ MB\n"
     ]
    }
   ],
   "source": [
    "df_inspection.info()"
   ]
  },
  {
   "cell_type": "code",
   "execution_count": 220,
   "metadata": {},
   "outputs": [],
   "source": [
    "# df_inspection.loc[df_inspection['version'] == '0919','version'] = 'aaa'"
   ]
  },
  {
   "cell_type": "code",
   "execution_count": 221,
   "metadata": {},
   "outputs": [
    {
     "data": {
      "text/plain": [
       "array(['0919', '0926', '1003', '1010', '1017', '1024'], dtype=object)"
      ]
     },
     "execution_count": 221,
     "metadata": {},
     "output_type": "execute_result"
    }
   ],
   "source": [
    "df_inspection['version'].unique()"
   ]
  },
  {
   "cell_type": "code",
   "execution_count": 222,
   "metadata": {},
   "outputs": [],
   "source": [
    "list_prio = list(df_inspection['version'].unique())"
   ]
  },
  {
   "cell_type": "code",
   "execution_count": 223,
   "metadata": {},
   "outputs": [],
   "source": [
    "priority_path = r'C:\\Medline\\9. Inspection Priority List\\Priority List_input\\2023\\priority_list'"
   ]
  },
  {
   "cell_type": "code",
   "execution_count": 224,
   "metadata": {},
   "outputs": [],
   "source": [
    "def combine_priority(path):\n",
    "    try:\n",
    "        finalexcelsheet = pd.DataFrame()\n",
    "        # filenames = glob.glob(path + \"\\*.xlsx\")\n",
    "        for file in list_prio:\n",
    "            df = pd.read_excel(path +'\\Inspection Priority List 2023' + file + '.xlsx',sheet_name='Priority list',usecols=\"A,B,C,E,BC\")\n",
    "            df['key'] = df['Vendor Name'] + df['Material Number'].map(str)\n",
    "            df.drop_duplicates(subset=['key'],keep='first',inplace=True)\n",
    "            df['version'] = file\n",
    "            finalexcelsheet = pd.concat([finalexcelsheet,df],ignore_index=True)\n",
    "        return finalexcelsheet\n",
    "    except Exception as e:\n",
    "            traceback.print_exc()"
   ]
  },
  {
   "cell_type": "code",
   "execution_count": 225,
   "metadata": {},
   "outputs": [],
   "source": [
    "df_priority = combine_priority(priority_path)"
   ]
  },
  {
   "cell_type": "code",
   "execution_count": null,
   "metadata": {},
   "outputs": [],
   "source": [
    "df_InspectionEfficiency_out = df_inspection.merge(df_priority,how='left',on=['version','key'])"
   ]
  },
  {
   "cell_type": "code",
   "execution_count": null,
   "metadata": {},
   "outputs": [],
   "source": [
    "df_InspectionEfficiency_out.to_excel('InspectionEfficiency.xlsx',index = False)"
   ]
  },
  {
   "cell_type": "code",
   "execution_count": null,
   "metadata": {},
   "outputs": [],
   "source": []
  },
  {
   "cell_type": "code",
   "execution_count": 8,
   "metadata": {},
   "outputs": [],
   "source": [
    "df1 = pd.DataFrame({'B': [1,2], 'D': [100,200]})\n",
    "df2 = pd.DataFrame({'B': [3,4], 'E': [300,400]})\n",
    "df3 = pd.DataFrame({'B': [5,6], 'F': [500,600]})\n",
    "\n",
    "df = pd.DataFrame({'A': ['a', 'a', 'b', 'b', 'c', 'c'], 'B': [1,2,3,4,5,6], 'C': [10,20,30,40,50,60]})\n",
    "\n",
    "# 先定义一个字典，存储不同的表\n",
    "\n"
   ]
  },
  {
   "cell_type": "code",
   "execution_count": 9,
   "metadata": {},
   "outputs": [],
   "source": [
    "tables = {'a': df1, 'b': df2, 'c': df3}\n",
    "\n",
    "# 定义一个函数，根据A列的值，返回对应的表\n",
    "def get_table(x):\n",
    "    return tables[x]\n",
    "\n",
    "# 使用groupby和apply，对每一组分别调用merge函数，实现left join\n",
    "result = df.groupby('A').apply(lambda x: pd.merge(x, get_table(x['A'].iloc[0]), on='B', how='left'))\n",
    "\n",
    "# 重置索引，去掉多余的层级\n",
    "result = result.reset_index(drop=True)"
   ]
  },
  {
   "cell_type": "code",
   "execution_count": 17,
   "metadata": {},
   "outputs": [
    {
     "name": "stdout",
     "output_type": "stream",
     "text": [
      "   ID  Code Type  Name Scheduler\n",
      "0   1   123    A   Jim        李四\n",
      "1   2   345    A   Tom        王五\n",
      "2   3   456    R  Jack        彭帅\n",
      "3   4   567    R   Jim       NaN\n",
      "4   5   789    G  Tony        林三\n",
      "5   6   432    W  Tony        林三\n"
     ]
    }
   ],
   "source": [
    "# 导入pandas库\n",
    "import pandas as pd\n",
    "\n",
    "# 创建dataframe\n",
    "df = pd.DataFrame({\"ID\": [1, 2, 3, 4, 5, 6], \"Code\": [123, 345, 456, 567, 789, 432], \"Type\": [\"A\", \"A\", \"R\", \"R\", \"G\", \"W\"], \"Name\": [\"Jim\", \"Tom\", \"Jack\", \"Jim\", \"Tony\", \"Tony\"]})\n",
    "\n",
    "# 创建Code和Name的映射表\n",
    "code_map = pd.DataFrame({\"Code\": [123, 345,456], \"Scheduler\": [\"李四\", \"王五\",\"彭帅\"]})\n",
    "name_map = pd.DataFrame({\"Name\": [\"Jack\", \"Jim\", \"Tony\"], \"Scheduler\": [\"汤姆\", \"杰瑞\", \"林三\"]})\n",
    "\n",
    "# 定义一个函数，根据Type的值来选择合适的key和映射表\n",
    "def get_scheduler(row):\n",
    "    if row[\"Type\"] in [\"A\",\"R\"]:\n",
    "        key = \"Code\"\n",
    "        map = code_map\n",
    "    else:\n",
    "        key = \"Name\"\n",
    "        map = name_map\n",
    "    # 用pandas的merge方法来合并dataframe和映射表，返回Scheduler的值\n",
    "    return pd.merge(df, map, on=key, how=\"left\")[\"Scheduler\"][row.name]\n",
    "\n",
    "# 用apply方法来对每一行应用函数，得到Scheduler列\n",
    "df[\"Scheduler\"] = df.apply(get_scheduler, axis=1)\n",
    "\n",
    "# 打印结果\n",
    "print(df)\n"
   ]
  },
  {
   "cell_type": "code",
   "execution_count": 205,
   "metadata": {},
   "outputs": [
    {
     "name": "stdout",
     "output_type": "stream",
     "text": [
      "    ID              Division   Number\n",
      "0    1      41-Surgeon Glove       41\n",
      "1    2            21-Proxima       21\n",
      "2    3       81-Primary Care       81\n",
      "3    4         40-Exam Glove       40\n",
      "4    5  50-Medcrest-Garments       50\n",
      "5    6                22-SPT       22\n",
      "6    7                30-DME       30\n",
      "7    8    51-Preventive care       51\n",
      "8    9      82-Personal Care       82\n",
      "9   10                ISP-EU   ISP-EU\n",
      "10  11    15-Central Sterile       15\n",
      "11  12         29-Anesthesia       29\n",
      "12  13               ISP-ANZ  ISP-ANZ\n"
     ]
    }
   ],
   "source": [
    "# 导入pandas库\n",
    "import pandas as pd\n",
    "\n",
    "# 创建一个数据框，包含ID和Division两列\n",
    "df = pd.DataFrame({\"ID\": [1, 2, 3, 4, 5, 6, 7, 8, 9, 10, 11, 12, 13], \"Division\": [\"41-Surgeon Glove\", \"21-Proxima\", \"81-Primary Care\", \"40-Exam Glove\", \"50-Medcrest-Garments\", \"22-SPT\", \"30-DME\", \"51-Preventive care\", \"82-Personal Care\", \"ISP-EU\", \"15-Central Sterile\", \"29-Anesthesia\", \"ISP-ANZ\"]})\n",
    "\n",
    "# 定义一个函数，提取Division字段中不以ISP开头的值中的数字，若以ISP开头则保持原来的值\n",
    "def extract_number(x):\n",
    "    # 如果x以ISP开头，直接返回x\n",
    "    if x.startswith(\"ISP\"):\n",
    "        return x\n",
    "    # 否则，使用正则表达式提取数字\n",
    "    else:\n",
    "        # 导入re库\n",
    "        import re\n",
    "        # 使用re.search()方法找到第一个匹配的数字\n",
    "        match = re.search(\"\\d+\", x)\n",
    "        # 如果找到了，返回匹配的字符串\n",
    "        if match:\n",
    "            return match.group()\n",
    "        # 否则，返回空值\n",
    "        else:\n",
    "            return None\n",
    "\n",
    "# 使用apply()方法对Division列应用extract_number函数，并创建一个新列\n",
    "df[\"Number\"] = df[\"Division\"].apply(extract_number)\n",
    "\n",
    "# 打印结果\n",
    "print(df)\n"
   ]
  },
  {
   "cell_type": "code",
   "execution_count": null,
   "metadata": {},
   "outputs": [],
   "source": []
  }
 ],
 "metadata": {
  "kernelspec": {
   "display_name": "Python 3",
   "language": "python",
   "name": "python3"
  },
  "language_info": {
   "codemirror_mode": {
    "name": "ipython",
    "version": 3
   },
   "file_extension": ".py",
   "mimetype": "text/x-python",
   "name": "python",
   "nbconvert_exporter": "python",
   "pygments_lexer": "ipython3",
   "version": "3.8.0"
  }
 },
 "nbformat": 4,
 "nbformat_minor": 2
}
